{
 "cells": [
  {
   "cell_type": "code",
   "execution_count": 1,
   "id": "6e0a2fe8-eb91-4a2d-a361-8313b9984dea",
   "metadata": {},
   "outputs": [],
   "source": [
    "import pandas as pd\n",
    "import numpy as np"
   ]
  },
  {
   "cell_type": "code",
   "execution_count": 2,
   "id": "9dbdee63-7a9a-47f2-96be-6a062eb60635",
   "metadata": {},
   "outputs": [],
   "source": [
    "df = pd.read_csv('amazon.csv')"
   ]
  },
  {
   "cell_type": "code",
   "execution_count": 3,
   "id": "06617ce0-a6d2-49d5-9396-2bf729264c3f",
   "metadata": {},
   "outputs": [
    {
     "data": {
      "text/html": [
       "<div>\n",
       "<style scoped>\n",
       "    .dataframe tbody tr th:only-of-type {\n",
       "        vertical-align: middle;\n",
       "    }\n",
       "\n",
       "    .dataframe tbody tr th {\n",
       "        vertical-align: top;\n",
       "    }\n",
       "\n",
       "    .dataframe thead th {\n",
       "        text-align: right;\n",
       "    }\n",
       "</style>\n",
       "<table border=\"1\" class=\"dataframe\">\n",
       "  <thead>\n",
       "    <tr style=\"text-align: right;\">\n",
       "      <th></th>\n",
       "      <th>product_id</th>\n",
       "      <th>product_name</th>\n",
       "      <th>category</th>\n",
       "      <th>discounted_price</th>\n",
       "      <th>actual_price</th>\n",
       "      <th>discount_percentage</th>\n",
       "      <th>rating</th>\n",
       "      <th>rating_count</th>\n",
       "      <th>about_product</th>\n",
       "      <th>user_id</th>\n",
       "      <th>user_name</th>\n",
       "      <th>review_id</th>\n",
       "      <th>review_title</th>\n",
       "      <th>review_content</th>\n",
       "      <th>img_link</th>\n",
       "      <th>product_link</th>\n",
       "    </tr>\n",
       "  </thead>\n",
       "  <tbody>\n",
       "    <tr>\n",
       "      <th>0</th>\n",
       "      <td>B07JW9H4J1</td>\n",
       "      <td>Wayona Nylon Braided USB to Lightning Fast Cha...</td>\n",
       "      <td>Computers&amp;Accessories|Accessories&amp;Peripherals|...</td>\n",
       "      <td>₹399</td>\n",
       "      <td>₹1,099</td>\n",
       "      <td>64%</td>\n",
       "      <td>4.2</td>\n",
       "      <td>24,269</td>\n",
       "      <td>High Compatibility : Compatible With iPhone 12...</td>\n",
       "      <td>AG3D6O4STAQKAY2UVGEUV46KN35Q,AHMY5CWJMMK5BJRBB...</td>\n",
       "      <td>Manav,Adarsh gupta,Sundeep,S.Sayeed Ahmed,jasp...</td>\n",
       "      <td>R3HXWT0LRP0NMF,R2AJM3LFTLZHFO,R6AQJGUP6P86,R1K...</td>\n",
       "      <td>Satisfied,Charging is really fast,Value for mo...</td>\n",
       "      <td>Looks durable Charging is fine tooNo complains...</td>\n",
       "      <td>https://m.media-amazon.com/images/W/WEBP_40237...</td>\n",
       "      <td>https://www.amazon.in/Wayona-Braided-WN3LG1-Sy...</td>\n",
       "    </tr>\n",
       "    <tr>\n",
       "      <th>1</th>\n",
       "      <td>B098NS6PVG</td>\n",
       "      <td>Ambrane Unbreakable 60W / 3A Fast Charging 1.5...</td>\n",
       "      <td>Computers&amp;Accessories|Accessories&amp;Peripherals|...</td>\n",
       "      <td>₹199</td>\n",
       "      <td>₹349</td>\n",
       "      <td>43%</td>\n",
       "      <td>4.0</td>\n",
       "      <td>43,994</td>\n",
       "      <td>Compatible with all Type C enabled devices, be...</td>\n",
       "      <td>AECPFYFQVRUWC3KGNLJIOREFP5LQ,AGYYVPDD7YG7FYNBX...</td>\n",
       "      <td>ArdKn,Nirbhay kumar,Sagar Viswanathan,Asp,Plac...</td>\n",
       "      <td>RGIQEG07R9HS2,R1SMWZQ86XIN8U,R2J3Y1WL29GWDE,RY...</td>\n",
       "      <td>A Good Braided Cable for Your Type C Device,Go...</td>\n",
       "      <td>I ordered this cable to connect my phone to An...</td>\n",
       "      <td>https://m.media-amazon.com/images/W/WEBP_40237...</td>\n",
       "      <td>https://www.amazon.in/Ambrane-Unbreakable-Char...</td>\n",
       "    </tr>\n",
       "    <tr>\n",
       "      <th>2</th>\n",
       "      <td>B096MSW6CT</td>\n",
       "      <td>Sounce Fast Phone Charging Cable &amp; Data Sync U...</td>\n",
       "      <td>Computers&amp;Accessories|Accessories&amp;Peripherals|...</td>\n",
       "      <td>₹199</td>\n",
       "      <td>₹1,899</td>\n",
       "      <td>90%</td>\n",
       "      <td>3.9</td>\n",
       "      <td>7,928</td>\n",
       "      <td>【 Fast Charger&amp; Data Sync】-With built-in safet...</td>\n",
       "      <td>AGU3BBQ2V2DDAMOAKGFAWDDQ6QHA,AESFLDV2PT363T2AQ...</td>\n",
       "      <td>Kunal,Himanshu,viswanath,sai niharka,saqib mal...</td>\n",
       "      <td>R3J3EQQ9TZI5ZJ,R3E7WBGK7ID0KV,RWU79XKQ6I1QF,R2...</td>\n",
       "      <td>Good speed for earlier versions,Good Product,W...</td>\n",
       "      <td>Not quite durable and sturdy,https://m.media-a...</td>\n",
       "      <td>https://m.media-amazon.com/images/W/WEBP_40237...</td>\n",
       "      <td>https://www.amazon.in/Sounce-iPhone-Charging-C...</td>\n",
       "    </tr>\n",
       "    <tr>\n",
       "      <th>3</th>\n",
       "      <td>B08HDJ86NZ</td>\n",
       "      <td>boAt Deuce USB 300 2 in 1 Type-C &amp; Micro USB S...</td>\n",
       "      <td>Computers&amp;Accessories|Accessories&amp;Peripherals|...</td>\n",
       "      <td>₹329</td>\n",
       "      <td>₹699</td>\n",
       "      <td>53%</td>\n",
       "      <td>4.2</td>\n",
       "      <td>94,363</td>\n",
       "      <td>The boAt Deuce USB 300 2 in 1 cable is compati...</td>\n",
       "      <td>AEWAZDZZJLQUYVOVGBEUKSLXHQ5A,AG5HTSFRRE6NL3M5S...</td>\n",
       "      <td>Omkar dhale,JD,HEMALATHA,Ajwadh a.,amar singh ...</td>\n",
       "      <td>R3EEUZKKK9J36I,R3HJVYCLYOY554,REDECAZ7AMPQC,R1...</td>\n",
       "      <td>Good product,Good one,Nice,Really nice product...</td>\n",
       "      <td>Good product,long wire,Charges good,Nice,I bou...</td>\n",
       "      <td>https://m.media-amazon.com/images/I/41V5FtEWPk...</td>\n",
       "      <td>https://www.amazon.in/Deuce-300-Resistant-Tang...</td>\n",
       "    </tr>\n",
       "    <tr>\n",
       "      <th>4</th>\n",
       "      <td>B08CF3B7N1</td>\n",
       "      <td>Portronics Konnect L 1.2M Fast Charging 3A 8 P...</td>\n",
       "      <td>Computers&amp;Accessories|Accessories&amp;Peripherals|...</td>\n",
       "      <td>₹154</td>\n",
       "      <td>₹399</td>\n",
       "      <td>61%</td>\n",
       "      <td>4.2</td>\n",
       "      <td>16,905</td>\n",
       "      <td>[CHARGE &amp; SYNC FUNCTION]- This cable comes wit...</td>\n",
       "      <td>AE3Q6KSUK5P75D5HFYHCRAOLODSA,AFUGIFH5ZAFXRDSZH...</td>\n",
       "      <td>rahuls6099,Swasat Borah,Ajay Wadke,Pranali,RVK...</td>\n",
       "      <td>R1BP4L2HH9TFUP,R16PVJEXKV6QZS,R2UPDB81N66T4P,R...</td>\n",
       "      <td>As good as original,Decent,Good one for second...</td>\n",
       "      <td>Bought this instead of original apple, does th...</td>\n",
       "      <td>https://m.media-amazon.com/images/W/WEBP_40237...</td>\n",
       "      <td>https://www.amazon.in/Portronics-Konnect-POR-1...</td>\n",
       "    </tr>\n",
       "  </tbody>\n",
       "</table>\n",
       "</div>"
      ],
      "text/plain": [
       "   product_id                                       product_name  \\\n",
       "0  B07JW9H4J1  Wayona Nylon Braided USB to Lightning Fast Cha...   \n",
       "1  B098NS6PVG  Ambrane Unbreakable 60W / 3A Fast Charging 1.5...   \n",
       "2  B096MSW6CT  Sounce Fast Phone Charging Cable & Data Sync U...   \n",
       "3  B08HDJ86NZ  boAt Deuce USB 300 2 in 1 Type-C & Micro USB S...   \n",
       "4  B08CF3B7N1  Portronics Konnect L 1.2M Fast Charging 3A 8 P...   \n",
       "\n",
       "                                            category discounted_price  \\\n",
       "0  Computers&Accessories|Accessories&Peripherals|...             ₹399   \n",
       "1  Computers&Accessories|Accessories&Peripherals|...             ₹199   \n",
       "2  Computers&Accessories|Accessories&Peripherals|...             ₹199   \n",
       "3  Computers&Accessories|Accessories&Peripherals|...             ₹329   \n",
       "4  Computers&Accessories|Accessories&Peripherals|...             ₹154   \n",
       "\n",
       "  actual_price discount_percentage rating rating_count  \\\n",
       "0       ₹1,099                 64%    4.2       24,269   \n",
       "1         ₹349                 43%    4.0       43,994   \n",
       "2       ₹1,899                 90%    3.9        7,928   \n",
       "3         ₹699                 53%    4.2       94,363   \n",
       "4         ₹399                 61%    4.2       16,905   \n",
       "\n",
       "                                       about_product  \\\n",
       "0  High Compatibility : Compatible With iPhone 12...   \n",
       "1  Compatible with all Type C enabled devices, be...   \n",
       "2  【 Fast Charger& Data Sync】-With built-in safet...   \n",
       "3  The boAt Deuce USB 300 2 in 1 cable is compati...   \n",
       "4  [CHARGE & SYNC FUNCTION]- This cable comes wit...   \n",
       "\n",
       "                                             user_id  \\\n",
       "0  AG3D6O4STAQKAY2UVGEUV46KN35Q,AHMY5CWJMMK5BJRBB...   \n",
       "1  AECPFYFQVRUWC3KGNLJIOREFP5LQ,AGYYVPDD7YG7FYNBX...   \n",
       "2  AGU3BBQ2V2DDAMOAKGFAWDDQ6QHA,AESFLDV2PT363T2AQ...   \n",
       "3  AEWAZDZZJLQUYVOVGBEUKSLXHQ5A,AG5HTSFRRE6NL3M5S...   \n",
       "4  AE3Q6KSUK5P75D5HFYHCRAOLODSA,AFUGIFH5ZAFXRDSZH...   \n",
       "\n",
       "                                           user_name  \\\n",
       "0  Manav,Adarsh gupta,Sundeep,S.Sayeed Ahmed,jasp...   \n",
       "1  ArdKn,Nirbhay kumar,Sagar Viswanathan,Asp,Plac...   \n",
       "2  Kunal,Himanshu,viswanath,sai niharka,saqib mal...   \n",
       "3  Omkar dhale,JD,HEMALATHA,Ajwadh a.,amar singh ...   \n",
       "4  rahuls6099,Swasat Borah,Ajay Wadke,Pranali,RVK...   \n",
       "\n",
       "                                           review_id  \\\n",
       "0  R3HXWT0LRP0NMF,R2AJM3LFTLZHFO,R6AQJGUP6P86,R1K...   \n",
       "1  RGIQEG07R9HS2,R1SMWZQ86XIN8U,R2J3Y1WL29GWDE,RY...   \n",
       "2  R3J3EQQ9TZI5ZJ,R3E7WBGK7ID0KV,RWU79XKQ6I1QF,R2...   \n",
       "3  R3EEUZKKK9J36I,R3HJVYCLYOY554,REDECAZ7AMPQC,R1...   \n",
       "4  R1BP4L2HH9TFUP,R16PVJEXKV6QZS,R2UPDB81N66T4P,R...   \n",
       "\n",
       "                                        review_title  \\\n",
       "0  Satisfied,Charging is really fast,Value for mo...   \n",
       "1  A Good Braided Cable for Your Type C Device,Go...   \n",
       "2  Good speed for earlier versions,Good Product,W...   \n",
       "3  Good product,Good one,Nice,Really nice product...   \n",
       "4  As good as original,Decent,Good one for second...   \n",
       "\n",
       "                                      review_content  \\\n",
       "0  Looks durable Charging is fine tooNo complains...   \n",
       "1  I ordered this cable to connect my phone to An...   \n",
       "2  Not quite durable and sturdy,https://m.media-a...   \n",
       "3  Good product,long wire,Charges good,Nice,I bou...   \n",
       "4  Bought this instead of original apple, does th...   \n",
       "\n",
       "                                            img_link  \\\n",
       "0  https://m.media-amazon.com/images/W/WEBP_40237...   \n",
       "1  https://m.media-amazon.com/images/W/WEBP_40237...   \n",
       "2  https://m.media-amazon.com/images/W/WEBP_40237...   \n",
       "3  https://m.media-amazon.com/images/I/41V5FtEWPk...   \n",
       "4  https://m.media-amazon.com/images/W/WEBP_40237...   \n",
       "\n",
       "                                        product_link  \n",
       "0  https://www.amazon.in/Wayona-Braided-WN3LG1-Sy...  \n",
       "1  https://www.amazon.in/Ambrane-Unbreakable-Char...  \n",
       "2  https://www.amazon.in/Sounce-iPhone-Charging-C...  \n",
       "3  https://www.amazon.in/Deuce-300-Resistant-Tang...  \n",
       "4  https://www.amazon.in/Portronics-Konnect-POR-1...  "
      ]
     },
     "execution_count": 3,
     "metadata": {},
     "output_type": "execute_result"
    }
   ],
   "source": [
    "df.head()"
   ]
  },
  {
   "cell_type": "code",
   "execution_count": 4,
   "id": "026f0fe8-de16-4e5f-a1c6-070264d7b6b2",
   "metadata": {},
   "outputs": [
    {
     "name": "stdout",
     "output_type": "stream",
     "text": [
      "<class 'pandas.core.frame.DataFrame'>\n",
      "RangeIndex: 1465 entries, 0 to 1464\n",
      "Data columns (total 16 columns):\n",
      " #   Column               Non-Null Count  Dtype \n",
      "---  ------               --------------  ----- \n",
      " 0   product_id           1465 non-null   object\n",
      " 1   product_name         1465 non-null   object\n",
      " 2   category             1465 non-null   object\n",
      " 3   discounted_price     1465 non-null   object\n",
      " 4   actual_price         1465 non-null   object\n",
      " 5   discount_percentage  1465 non-null   object\n",
      " 6   rating               1465 non-null   object\n",
      " 7   rating_count         1463 non-null   object\n",
      " 8   about_product        1465 non-null   object\n",
      " 9   user_id              1465 non-null   object\n",
      " 10  user_name            1465 non-null   object\n",
      " 11  review_id            1465 non-null   object\n",
      " 12  review_title         1465 non-null   object\n",
      " 13  review_content       1465 non-null   object\n",
      " 14  img_link             1465 non-null   object\n",
      " 15  product_link         1465 non-null   object\n",
      "dtypes: object(16)\n",
      "memory usage: 183.3+ KB\n"
     ]
    }
   ],
   "source": [
    "df.info()"
   ]
  },
  {
   "cell_type": "code",
   "execution_count": 5,
   "id": "2d947087-95c1-4bb1-ab28-30541f954187",
   "metadata": {},
   "outputs": [
    {
     "data": {
      "text/plain": [
       "product_id             0\n",
       "product_name           0\n",
       "category               0\n",
       "discounted_price       0\n",
       "actual_price           0\n",
       "discount_percentage    0\n",
       "rating                 0\n",
       "rating_count           2\n",
       "about_product          0\n",
       "user_id                0\n",
       "user_name              0\n",
       "review_id              0\n",
       "review_title           0\n",
       "review_content         0\n",
       "img_link               0\n",
       "product_link           0\n",
       "dtype: int64"
      ]
     },
     "execution_count": 5,
     "metadata": {},
     "output_type": "execute_result"
    }
   ],
   "source": [
    "df.isna().sum()"
   ]
  },
  {
   "cell_type": "code",
   "execution_count": 6,
   "id": "c59e1cf8-1f93-4b3e-ae10-e32db6fb1a9b",
   "metadata": {},
   "outputs": [],
   "source": [
    "df = df.drop(labels=['rating_count'],axis=1)"
   ]
  },
  {
   "cell_type": "code",
   "execution_count": 7,
   "id": "52c70e66-6344-44f1-928c-1b9af9c5f603",
   "metadata": {},
   "outputs": [],
   "source": [
    "# Combine all info from descriptive columns to a single column separated by space :-\n",
    "cols = ['product_name','category','about_product','review_title','review_content']\n",
    "\n",
    "df['combined_cols'] = df[cols].apply(lambda row: ' '.join(row.values.astype(str)), axis=1)"
   ]
  },
  {
   "cell_type": "code",
   "execution_count": 8,
   "id": "5a38e079-7fd1-4095-a1bd-d134991f6ac3",
   "metadata": {},
   "outputs": [],
   "source": [
    "df = df[['product_id', 'combined_cols']]"
   ]
  },
  {
   "cell_type": "code",
   "execution_count": 9,
   "id": "bd691825-9a63-4eb3-811e-4b31cab33388",
   "metadata": {},
   "outputs": [
    {
     "data": {
      "text/plain": [
       "(1465, 2)"
      ]
     },
     "execution_count": 9,
     "metadata": {},
     "output_type": "execute_result"
    }
   ],
   "source": [
    "df.head()\n",
    "df.shape"
   ]
  },
  {
   "cell_type": "code",
   "execution_count": 10,
   "id": "375b6d03-5753-4115-b36e-8770284674c1",
   "metadata": {},
   "outputs": [
    {
     "name": "stderr",
     "output_type": "stream",
     "text": [
      "[nltk_data] Downloading package stopwords to\n",
      "[nltk_data]     C:\\Users\\avish\\AppData\\Roaming\\nltk_data...\n",
      "[nltk_data]   Package stopwords is already up-to-date!\n",
      "[nltk_data] Downloading package punkt to\n",
      "[nltk_data]     C:\\Users\\avish\\AppData\\Roaming\\nltk_data...\n",
      "[nltk_data]   Package punkt is already up-to-date!\n"
     ]
    },
    {
     "data": {
      "text/plain": [
       "True"
      ]
     },
     "execution_count": 10,
     "metadata": {},
     "output_type": "execute_result"
    }
   ],
   "source": [
    "import nltk\n",
    "\n",
    "# Download the stopwords corpus\n",
    "nltk.download('stopwords')\n",
    "\n",
    "# Download the Porter stemming algorithm\n",
    "nltk.download('punkt')  # The 'punkt' tokenizer is often needed for stemming operations\n"
   ]
  },
  {
   "cell_type": "code",
   "execution_count": 11,
   "id": "e6b111ad-1b33-4ee3-b152-683603fdb685",
   "metadata": {},
   "outputs": [],
   "source": [
    "# Data cleaning :-\n",
    "import string\n",
    "from nltk.corpus import stopwords\n",
    "from nltk.stem import PorterStemmer\n",
    "def text_process(desc):\n",
    "    df['combined_cols'].fillna(value='0', inplace=True) # Fill the null values with empty string\n",
    "    # Remove punctuation :-\n",
    "    noPunc = [c for c in desc if c not in string.punctuation]\n",
    "    noPunc = ''.join(noPunc)\n",
    "    noPunc = noPunc.split()\n",
    "    # Remove stopwords :-\n",
    "    stopword = stopwords.words('english')\n",
    "    desc_stopwords = [word.lower() for word in noPunc if word.lower() not in stopword]\n",
    "    # Replace words with their respective stems :-\n",
    "    stemmer = PorterStemmer()\n",
    "    desc_cleaned = [stemmer.stem(word) for word in desc_stopwords]\n",
    "    return desc_cleaned"
   ]
  },
  {
   "cell_type": "code",
   "execution_count": 12,
   "id": "89c42e39-bc5d-4137-b401-e1d6680f514e",
   "metadata": {},
   "outputs": [],
   "source": [
    "# Vectorizing the data :-\n",
    "from sklearn.feature_extraction.text import TfidfVectorizer\n",
    "tfidf = TfidfVectorizer(analyzer=text_process)\n",
    "tfidf_matrix = tfidf.fit_transform(df['combined_cols'])"
   ]
  },
  {
   "cell_type": "code",
   "execution_count": 13,
   "id": "5a32b6ac-0fe7-4fe1-a5b1-7adfc7b49d5a",
   "metadata": {},
   "outputs": [],
   "source": [
    "# Recommender system :-\n",
    "from sklearn.metrics.pairwise import cosine_similarity\n",
    "cos_sim = cosine_similarity(tfidf_matrix, tfidf_matrix)"
   ]
  },
  {
   "cell_type": "code",
   "execution_count": 14,
   "id": "ef9bd6dc-4b77-42e7-ad38-62351f22e2cf",
   "metadata": {},
   "outputs": [],
   "source": [
    "# Map the article_id to their indices :-\n",
    "indices = pd.Series(df.index, index=df['product_id']).drop_duplicates()"
   ]
  },
  {
   "cell_type": "code",
   "execution_count": 15,
   "id": "19580f89-2119-4701-92da-5241e3d2e580",
   "metadata": {},
   "outputs": [],
   "source": [
    "# Method to predict similar articles :-\n",
    "def recommendations(product_id):\n",
    "    i = indices.iloc[product_id] # Index of the articles that match the given article\n",
    "    sim_scores = list(enumerate(cos_sim[i])) # Similarity scores of all articles w.r.t. to the given article\n",
    "    sim_scores.sort(key=lambda x: x[1], reverse=True) # Sort the similarity scores in descending order\n",
    "    # Get the scores of the 10 most similar articles\n",
    "    sim_scores = sim_scores[:10]\n",
    "    # Get the article indices\n",
    "    df_indices = [score[0] for score in sim_scores]\n",
    "    return df['product_id'].iloc[df_indices].values"
   ]
  },
  {
   "cell_type": "code",
   "execution_count": 16,
   "id": "c68ef0ce-3240-4d2a-83d9-5247fe9efbe2",
   "metadata": {},
   "outputs": [
    {
     "name": "stdout",
     "output_type": "stream",
     "text": [
      "['B08BJN4MP3' 'B0BJ6P3LSK' 'B0B7FJNSZR' 'B0BJ966M5K' 'B07YC8JHMB'\n",
      " 'B096NTB9XT' 'B09YLWT89W' 'B0BBLHTRM9' 'B07FJNNZCJ' 'B0BCYQY9X5']\n"
     ]
    }
   ],
   "source": [
    "# Get the recommendations for a sample product :-\n",
    "predict_recom = recommendations(1300)\n",
    "print(predict_recom)"
   ]
  },
  {
   "cell_type": "code",
   "execution_count": 17,
   "id": "5c046a67-bc0c-4d1c-9765-370096bf5c06",
   "metadata": {},
   "outputs": [],
   "source": [
    "# Save the recommender as a file :-\n",
    "import pickle\n",
    "\n",
    "# Save the similarity matrix to a file using pickle :-\n",
    "with open('recommender.pkl', 'wb') as file:\n",
    "    pickle.dump(cos_sim, file)"
   ]
  },
  {
   "cell_type": "code",
   "execution_count": 18,
   "id": "70cb8ef8-56c3-481c-8d6d-3574f511d16e",
   "metadata": {},
   "outputs": [],
   "source": [
    "# Method for showing search results with a given description of the product :-\n",
    "def search_result(desc):\n",
    "    search_tfidf = tfidf.transform([desc])\n",
    "    cos_sim = cosine_similarity(search_tfidf, tfidf_matrix)\n",
    "    sim_scores = list(enumerate(cos_sim[0]))\n",
    "    sim_scores.sort(key=lambda x: x[1], reverse=True)\n",
    "    sim_scores = sim_scores[:50]\n",
    "    df_indices = [score[0] for score in sim_scores]\n",
    "    return df['product_id'].iloc[df_indices].values"
   ]
  },
  {
   "cell_type": "code",
   "execution_count": 19,
   "id": "0dd19e05-5e0c-47ed-ac0e-118e52a0c776",
   "metadata": {},
   "outputs": [],
   "source": [
    "df['combined_cols'] = df['combined_cols'].fillna(value='')\n"
   ]
  },
  {
   "cell_type": "code",
   "execution_count": 20,
   "id": "f60fc3f9-9342-4fcf-85a6-32ab73b12f9f",
   "metadata": {},
   "outputs": [
    {
     "name": "stderr",
     "output_type": "stream",
     "text": [
      "C:\\Users\\avish\\AppData\\Local\\Temp\\ipykernel_5880\\757263678.py:6: FutureWarning: A value is trying to be set on a copy of a DataFrame or Series through chained assignment using an inplace method.\n",
      "The behavior will change in pandas 3.0. This inplace method will never work because the intermediate object on which we are setting values always behaves as a copy.\n",
      "\n",
      "For example, when doing 'df[col].method(value, inplace=True)', try using 'df.method({col: value}, inplace=True)' or df[col] = df[col].method(value) instead, to perform the operation inplace on the original object.\n",
      "\n",
      "\n",
      "  df['combined_cols'].fillna(value='0', inplace=True) # Fill the null values with empty string\n"
     ]
    },
    {
     "data": {
      "text/plain": [
       "array(['B07Z1YVP72', 'B07Z1X6VFC', 'B07LFWP97N', 'B07Z1Z77ZZ',\n",
       "       'B0883LQJ6B', 'B09PLFJ7ZW', 'B09P18XVW6', 'B09TT6BFDX',\n",
       "       'B09NC2TY11', 'B0B6BLTGTT', 'B09RFB2SJQ', 'B0BBVKRP7B',\n",
       "       'B09DG9VNWB', 'B0BD92GDQH', 'B07TR5HSR9', 'B0B3N7LR6K',\n",
       "       'B0B3N7LR6K', 'B0B3NDPCS9', 'B092R48XXB', 'B07JW9H4J1',\n",
       "       'B098NS6PVG', 'B096MSW6CT', 'B08HDJ86NZ', 'B08CF3B7N1',\n",
       "       'B08Y1TFSP6', 'B08WRWPM22', 'B08DDRGWTJ', 'B008IFXQFU',\n",
       "       'B082LZGK39', 'B08CF3D7QR', 'B0789LZTCJ', 'B07KSMBL2H',\n",
       "       'B085DTN6R2', 'B09KLVMZ3B', 'B083342NKJ', 'B0B6F7LX4C',\n",
       "       'B082LSVT4B', 'B08WRBG3XW', 'B08DPLCM6T', 'B09C6HXFC1',\n",
       "       'B085194JFL', 'B09F6S8BT6', 'B09NHVCHS9', 'B0B1YVCJ2Y',\n",
       "       'B01M4GGIVU', 'B08B42LWKN', 'B094JNXNPV', 'B09W5XR9RT',\n",
       "       'B077Z65HSD', 'B00NH11PEY'], dtype=object)"
      ]
     },
     "execution_count": 20,
     "metadata": {},
     "output_type": "execute_result"
    }
   ],
   "source": [
    "# Sample search :-\n",
    "search_result(\"jogger women\")"
   ]
  },
  {
   "cell_type": "code",
   "execution_count": 21,
   "id": "294d7d49-74ba-4bf5-b073-99e428da84c8",
   "metadata": {},
   "outputs": [],
   "source": [
    "# Save both the TfidfVectorizer and tfidf_matrix as files for searching products :-\n",
    "with open('tfidf.pkl', 'wb') as file:\n",
    "    pickle.dump(tfidf, file)\n",
    "with open('tfidf_matrix.pkl', 'wb') as file:\n",
    "    pickle.dump(tfidf_matrix, file)"
   ]
  },
  {
   "cell_type": "code",
   "execution_count": 22,
   "id": "e7580873-4af5-4ab9-8a3c-8e4108f74fd1",
   "metadata": {},
   "outputs": [
    {
     "name": "stderr",
     "output_type": "stream",
     "text": [
      "C:\\Users\\avish\\AppData\\Local\\Temp\\ipykernel_5880\\757263678.py:6: FutureWarning: A value is trying to be set on a copy of a DataFrame or Series through chained assignment using an inplace method.\n",
      "The behavior will change in pandas 3.0. This inplace method will never work because the intermediate object on which we are setting values always behaves as a copy.\n",
      "\n",
      "For example, when doing 'df[col].method(value, inplace=True)', try using 'df.method({col: value}, inplace=True)' or df[col] = df[col].method(value) instead, to perform the operation inplace on the original object.\n",
      "\n",
      "\n",
      "  df['combined_cols'].fillna(value='0', inplace=True) # Fill the null values with empty string\n"
     ]
    },
    {
     "data": {
      "text/plain": [
       "array(['B073BRXPZX', 'B08Y7MXFMK', 'B08QJJCY2Q', 'B09ZHCJDP1',\n",
       "       'B00NFD0ETQ', 'B0819HZPXL', 'B08CHZ3ZQ7', 'B08D64C9FN',\n",
       "       'B01J0XWYKQ', 'B07JPX9CR7', 'B08LT9BMPP', 'B08WLY8V9S',\n",
       "       'B07J2NGB69', 'B09GBBJV72', 'B07S7DCJKS', 'B01HJI0FS2',\n",
       "       'B0B296NTFV', 'B009VCGPSY', 'B01MQ2A86A', 'B003L62T7W',\n",
       "       'B0B2PQL5N3', 'B08YDFX7Y1', 'B09T3H12GV', 'B08WJ86PV2',\n",
       "       'B00CEQEGPI', 'B0B9LDCX89', 'B01KK0HU3Y', 'B098JYT4SY',\n",
       "       'B08497Z1MQ', 'B01N4EV2TL', 'B012MQS060', 'B079Y6JZC8',\n",
       "       'B004IO5BMQ', 'B099SD8PRP', 'B09GB5B4BK', 'B083RD1J99',\n",
       "       'B087FXHB6J', 'B08461VC1Z', 'B01M72LILF', 'B01J1CFO5I',\n",
       "       'B09MZ6WZ6V', 'B07L9FW9GF', 'B07X2L5Z8C', 'B083RCTXLL',\n",
       "       'B0BHYJ8CVF', 'B0798PJPCL', 'B07BRKK9JQ', 'B07KR5P3YD',\n",
       "       'B08LW31NQ6', 'B07V82W5CN'], dtype=object)"
      ]
     },
     "execution_count": 22,
     "metadata": {},
     "output_type": "execute_result"
    }
   ],
   "source": [
    "# Sample search :-\n",
    "search_result(\"mouse\")"
   ]
  },
  {
   "cell_type": "code",
   "execution_count": 23,
   "id": "fedd14d1-b9ed-4b92-a556-ca892ce0c531",
   "metadata": {},
   "outputs": [
    {
     "data": {
      "text/html": [
       "<div>\n",
       "<style scoped>\n",
       "    .dataframe tbody tr th:only-of-type {\n",
       "        vertical-align: middle;\n",
       "    }\n",
       "\n",
       "    .dataframe tbody tr th {\n",
       "        vertical-align: top;\n",
       "    }\n",
       "\n",
       "    .dataframe thead th {\n",
       "        text-align: right;\n",
       "    }\n",
       "</style>\n",
       "<table border=\"1\" class=\"dataframe\">\n",
       "  <thead>\n",
       "    <tr style=\"text-align: right;\">\n",
       "      <th></th>\n",
       "      <th>product_id</th>\n",
       "      <th>combined_cols</th>\n",
       "    </tr>\n",
       "  </thead>\n",
       "  <tbody>\n",
       "    <tr>\n",
       "      <th>1001</th>\n",
       "      <td>B08Y7MXFMK</td>\n",
       "      <td>Offbeat® - DASH 2.4GHz Wireless + Bluetooth 5....</td>\n",
       "    </tr>\n",
       "  </tbody>\n",
       "</table>\n",
       "</div>"
      ],
      "text/plain": [
       "      product_id                                      combined_cols\n",
       "1001  B08Y7MXFMK  Offbeat® - DASH 2.4GHz Wireless + Bluetooth 5...."
      ]
     },
     "execution_count": 23,
     "metadata": {},
     "output_type": "execute_result"
    }
   ],
   "source": [
    " df.loc[df['product_id'] == 'B08Y7MXFMK']"
   ]
  },
  {
   "cell_type": "code",
   "execution_count": null,
   "id": "15f21f06-898d-4542-88a1-f0c56405dd3e",
   "metadata": {},
   "outputs": [],
   "source": []
  }
 ],
 "metadata": {
  "kernelspec": {
   "display_name": "Python 3 (ipykernel)",
   "language": "python",
   "name": "python3"
  },
  "language_info": {
   "codemirror_mode": {
    "name": "ipython",
    "version": 3
   },
   "file_extension": ".py",
   "mimetype": "text/x-python",
   "name": "python",
   "nbconvert_exporter": "python",
   "pygments_lexer": "ipython3",
   "version": "3.12.1"
  }
 },
 "nbformat": 4,
 "nbformat_minor": 5
}
